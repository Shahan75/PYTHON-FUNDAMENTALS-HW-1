{
 "cells": [
  {
   "cell_type": "markdown",
   "id": "a470331b",
   "metadata": {},
   "source": [
    "# Lecture 04: Conditional logic, loop and writing functions in Python"
   ]
  },
  {
   "cell_type": "markdown",
   "id": "0bd7fcdd",
   "metadata": {},
   "source": [
    "- Objectives:\n",
    "<br> 1. How to write if-else, while and for loop in Python\n",
    "<br> 2. Writing functions in Python\n",
    "<br> 3. LeetCode problems"
   ]
  },
  {
   "cell_type": "markdown",
   "id": "3a9b1d3a",
   "metadata": {},
   "source": [
    "- **References**:\n",
    "<br> 1.https://leetcode.com/problems/defanging-an-ip-address/\n",
    "<br> 2.https://leetcode.com/problems/goal-parser-interpretation/\n",
    "<br> 3.https://leetcode.com/problems/check-if-two-string-arrays-are-equivalent/"
   ]
  },
  {
   "cell_type": "markdown",
   "id": "bf7e5cdc",
   "metadata": {},
   "source": [
    "- **HW4**:\n",
    "<br> 1.https://leetcode.com/problems/maximum-product-of-three-numbers/\n",
    "<br> 2.https://leetcode.com/problems/richest-customer-wealth/\n",
    "<br> 3.https://leetcode.com/problems/shuffle-the-array/\n",
    "<br> 4.https://leetcode.com/problems/valid-perfect-square/"
   ]
  },
  {
   "cell_type": "markdown",
   "id": "da7c0324",
   "metadata": {},
   "source": [
    "**Example: for loop**"
   ]
  },
  {
   "cell_type": "code",
   "execution_count": null,
   "id": "2855204b",
   "metadata": {},
   "outputs": [],
   "source": []
  },
  {
   "cell_type": "code",
   "execution_count": null,
   "id": "2ae8e19a",
   "metadata": {},
   "outputs": [],
   "source": []
  },
  {
   "cell_type": "markdown",
   "id": "c36f849d",
   "metadata": {},
   "source": [
    "**Writing Functions**"
   ]
  },
  {
   "cell_type": "code",
   "execution_count": null,
   "id": "b84bf4f4",
   "metadata": {},
   "outputs": [],
   "source": []
  },
  {
   "cell_type": "code",
   "execution_count": null,
   "id": "9df1b37d",
   "metadata": {},
   "outputs": [],
   "source": []
  },
  {
   "cell_type": "code",
   "execution_count": null,
   "id": "5d678eef",
   "metadata": {},
   "outputs": [],
   "source": []
  },
  {
   "cell_type": "markdown",
   "id": "ba8b7834",
   "metadata": {},
   "source": [
    "**Even or odd**"
   ]
  },
  {
   "cell_type": "code",
   "execution_count": null,
   "id": "f862661f",
   "metadata": {},
   "outputs": [],
   "source": []
  },
  {
   "cell_type": "code",
   "execution_count": null,
   "id": "5b3651d5",
   "metadata": {},
   "outputs": [],
   "source": []
  },
  {
   "cell_type": "markdown",
   "id": "7972916a",
   "metadata": {},
   "source": [
    "**Example of while condition**"
   ]
  },
  {
   "cell_type": "code",
   "execution_count": null,
   "id": "f6dc474e",
   "metadata": {},
   "outputs": [],
   "source": []
  },
  {
   "cell_type": "code",
   "execution_count": null,
   "id": "a26aa874",
   "metadata": {},
   "outputs": [],
   "source": []
  },
  {
   "cell_type": "code",
   "execution_count": null,
   "id": "4b5410d6",
   "metadata": {},
   "outputs": [],
   "source": []
  },
  {
   "cell_type": "code",
   "execution_count": null,
   "id": "196b6aa7",
   "metadata": {},
   "outputs": [],
   "source": []
  },
  {
   "cell_type": "markdown",
   "id": "eff52eb5",
   "metadata": {},
   "source": [
    "**example: if-else**"
   ]
  },
  {
   "cell_type": "code",
   "execution_count": null,
   "id": "bddc1433",
   "metadata": {},
   "outputs": [],
   "source": []
  },
  {
   "cell_type": "code",
   "execution_count": null,
   "id": "bd1f5039",
   "metadata": {},
   "outputs": [],
   "source": []
  },
  {
   "cell_type": "code",
   "execution_count": null,
   "id": "7a2daea0",
   "metadata": {},
   "outputs": [],
   "source": []
  },
  {
   "cell_type": "markdown",
   "id": "80b735e0",
   "metadata": {},
   "source": [
    "**Example of cumulative sum using for loop**"
   ]
  },
  {
   "cell_type": "code",
   "execution_count": null,
   "id": "9f716607",
   "metadata": {},
   "outputs": [],
   "source": []
  },
  {
   "cell_type": "code",
   "execution_count": null,
   "id": "13cd35f7",
   "metadata": {},
   "outputs": [],
   "source": []
  },
  {
   "cell_type": "code",
   "execution_count": null,
   "id": "0860da84",
   "metadata": {},
   "outputs": [],
   "source": []
  },
  {
   "cell_type": "markdown",
   "id": "79007a5e",
   "metadata": {},
   "source": [
    "**LeetCode Problem 01: Defanging an IP Address**"
   ]
  },
  {
   "cell_type": "code",
   "execution_count": null,
   "id": "ecfbb668",
   "metadata": {},
   "outputs": [],
   "source": []
  },
  {
   "cell_type": "code",
   "execution_count": null,
   "id": "4f2e9cfb",
   "metadata": {},
   "outputs": [],
   "source": []
  },
  {
   "cell_type": "markdown",
   "id": "c6228598",
   "metadata": {},
   "source": [
    "**LeetCode Problem 02: Goal Parser Interpretation**"
   ]
  },
  {
   "cell_type": "code",
   "execution_count": null,
   "id": "ee7e110b",
   "metadata": {},
   "outputs": [],
   "source": []
  },
  {
   "cell_type": "code",
   "execution_count": null,
   "id": "0120d585",
   "metadata": {},
   "outputs": [],
   "source": []
  },
  {
   "cell_type": "markdown",
   "id": "3c58a303",
   "metadata": {},
   "source": [
    "**LeetCode Problem 03: Check If Two String Arrays are Equivalent**"
   ]
  },
  {
   "cell_type": "code",
   "execution_count": null,
   "id": "98a170f5",
   "metadata": {},
   "outputs": [],
   "source": []
  }
 ],
 "metadata": {
  "kernelspec": {
   "display_name": "Python 3 (ipykernel)",
   "language": "python",
   "name": "python3"
  },
  "language_info": {
   "codemirror_mode": {
    "name": "ipython",
    "version": 3
   },
   "file_extension": ".py",
   "mimetype": "text/x-python",
   "name": "python",
   "nbconvert_exporter": "python",
   "pygments_lexer": "ipython3",
   "version": "3.9.13"
  }
 },
 "nbformat": 4,
 "nbformat_minor": 5
}
